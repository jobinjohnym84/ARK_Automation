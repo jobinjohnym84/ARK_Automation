{
 "cells": [
  {
   "cell_type": "code",
   "execution_count": 148,
   "metadata": {},
   "outputs": [],
   "source": [
    "import os"
   ]
  },
  {
   "cell_type": "code",
   "execution_count": 149,
   "metadata": {},
   "outputs": [],
   "source": [
    "import requests"
   ]
  },
  {
   "cell_type": "code",
   "execution_count": 150,
   "metadata": {},
   "outputs": [],
   "source": [
    "from datetime import datetime, date, time, timedelta"
   ]
  },
  {
   "cell_type": "code",
   "execution_count": 151,
   "metadata": {},
   "outputs": [],
   "source": [
    "import pandas as pd"
   ]
  },
  {
   "cell_type": "code",
   "execution_count": 152,
   "metadata": {},
   "outputs": [],
   "source": [
    "url='https://ark-funds.com/wp-content/fundsiteliterature/csv/ARK_GENOMIC_REVOLUTION_MULTISECTOR_ETF_ARKG_HOLDINGS.csv'"
   ]
  },
  {
   "cell_type": "code",
   "execution_count": 153,
   "metadata": {},
   "outputs": [],
   "source": [
    "response = requests.get(url)"
   ]
  },
  {
   "cell_type": "code",
   "execution_count": 154,
   "metadata": {},
   "outputs": [],
   "source": [
    "now = datetime.today().strftime('%Y-%m-%d')\n",
    "with open(os.path.join(\"/users/jobinjohny/downloads/ARK/\", now), 'wb') as f:\n",
    "    f.write(response.content)"
   ]
  },
  {
   "cell_type": "code",
   "execution_count": 155,
   "metadata": {},
   "outputs": [],
   "source": [
    "df1 = pd.read_csv('/users/jobinjohny/downloads/ARK/'+ now)\n",
    "df1 = df1[df1['fund'] == 'ARKG']"
   ]
  },
  {
   "cell_type": "code",
   "execution_count": 157,
   "metadata": {},
   "outputs": [],
   "source": [
    "yesterday = datetime.today() + timedelta(days=-1)\n",
    "df2 = pd.read_csv('/users/jobinjohny/downloads/ARK/'+ yesterday.strftime('%Y-%m-%d'))\n",
    "df2 = df2[df2['fund'] == 'ARKG']"
   ]
  },
  {
   "cell_type": "code",
   "execution_count": 158,
   "metadata": {},
   "outputs": [],
   "source": [
    "df = pd.concat([df1, df2])\n"
   ]
  },
  {
   "cell_type": "code",
   "execution_count": 159,
   "metadata": {},
   "outputs": [],
   "source": [
    "df = df.reset_index(drop=True)"
   ]
  },
  {
   "cell_type": "code",
   "execution_count": 160,
   "metadata": {},
   "outputs": [],
   "source": [
    "df_gpby = df.groupby(list(df.columns))"
   ]
  },
  {
   "cell_type": "code",
   "execution_count": 161,
   "metadata": {},
   "outputs": [],
   "source": [
    "idx = [x[0] for x in df_gpby.groups.values() if len(x) == 1]"
   ]
  },
  {
   "cell_type": "code",
   "execution_count": 162,
   "metadata": {},
   "outputs": [
    {
     "data": {
      "text/html": [
       "<div>\n",
       "<style scoped>\n",
       "    .dataframe tbody tr th:only-of-type {\n",
       "        vertical-align: middle;\n",
       "    }\n",
       "\n",
       "    .dataframe tbody tr th {\n",
       "        vertical-align: top;\n",
       "    }\n",
       "\n",
       "    .dataframe thead th {\n",
       "        text-align: right;\n",
       "    }\n",
       "</style>\n",
       "<table border=\"1\" class=\"dataframe\">\n",
       "  <thead>\n",
       "    <tr style=\"text-align: right;\">\n",
       "      <th></th>\n",
       "      <th>date</th>\n",
       "      <th>fund</th>\n",
       "      <th>company</th>\n",
       "      <th>ticker</th>\n",
       "      <th>cusip</th>\n",
       "      <th>shares</th>\n",
       "      <th>market value($)</th>\n",
       "      <th>weight(%)</th>\n",
       "    </tr>\n",
       "  </thead>\n",
       "  <tbody>\n",
       "    <tr>\n",
       "      <th>22</th>\n",
       "      <td>1/29/2021</td>\n",
       "      <td>ARKG</td>\n",
       "      <td>CASTLE BIOSCIENCES INC</td>\n",
       "      <td>CSTL</td>\n",
       "      <td>14843C105</td>\n",
       "      <td>2539636.0</td>\n",
       "      <td>1.697239e+08</td>\n",
       "      <td>1.58</td>\n",
       "    </tr>\n",
       "    <tr>\n",
       "      <th>76</th>\n",
       "      <td>1/29/2021</td>\n",
       "      <td>ARKG</td>\n",
       "      <td>CASTLE BIOSCIENCES INC</td>\n",
       "      <td>CSTL</td>\n",
       "      <td>14843C105</td>\n",
       "      <td>2539636.0</td>\n",
       "      <td>1.697239e+08</td>\n",
       "      <td>1.59</td>\n",
       "    </tr>\n",
       "    <tr>\n",
       "      <th>12</th>\n",
       "      <td>1/29/2021</td>\n",
       "      <td>ARKG</td>\n",
       "      <td>NOVARTIS AG-SPONSORED ADR</td>\n",
       "      <td>NVS</td>\n",
       "      <td>66987V109</td>\n",
       "      <td>3610825.0</td>\n",
       "      <td>3.266713e+08</td>\n",
       "      <td>3.05</td>\n",
       "    </tr>\n",
       "    <tr>\n",
       "      <th>66</th>\n",
       "      <td>1/29/2021</td>\n",
       "      <td>ARKG</td>\n",
       "      <td>NOVARTIS AG-SPONSORED ADR</td>\n",
       "      <td>NVS</td>\n",
       "      <td>66987V109</td>\n",
       "      <td>3610825.0</td>\n",
       "      <td>3.266713e+08</td>\n",
       "      <td>3.06</td>\n",
       "    </tr>\n",
       "  </tbody>\n",
       "</table>\n",
       "</div>"
      ],
      "text/plain": [
       "         date  fund                    company ticker      cusip     shares  \\\n",
       "22  1/29/2021  ARKG     CASTLE BIOSCIENCES INC   CSTL  14843C105  2539636.0   \n",
       "76  1/29/2021  ARKG     CASTLE BIOSCIENCES INC   CSTL  14843C105  2539636.0   \n",
       "12  1/29/2021  ARKG  NOVARTIS AG-SPONSORED ADR    NVS  66987V109  3610825.0   \n",
       "66  1/29/2021  ARKG  NOVARTIS AG-SPONSORED ADR    NVS  66987V109  3610825.0   \n",
       "\n",
       "    market value($)  weight(%)  \n",
       "22     1.697239e+08       1.58  \n",
       "76     1.697239e+08       1.59  \n",
       "12     3.266713e+08       3.05  \n",
       "66     3.266713e+08       3.06  "
      ]
     },
     "execution_count": 162,
     "metadata": {},
     "output_type": "execute_result"
    }
   ],
   "source": [
    "df.reindex(idx)"
   ]
  },
  {
   "cell_type": "code",
   "execution_count": null,
   "metadata": {},
   "outputs": [],
   "source": []
  }
 ],
 "metadata": {
  "kernelspec": {
   "display_name": "Python 3",
   "language": "python",
   "name": "python3"
  },
  "language_info": {
   "codemirror_mode": {
    "name": "ipython",
    "version": 3
   },
   "file_extension": ".py",
   "mimetype": "text/x-python",
   "name": "python",
   "nbconvert_exporter": "python",
   "pygments_lexer": "ipython3",
   "version": "3.8.5"
  }
 },
 "nbformat": 4,
 "nbformat_minor": 4
}
